{
 "cells": [
  {
   "cell_type": "markdown",
   "metadata": {},
   "source": [
    "## Implement Priority Queue"
   ]
  },
  {
   "cell_type": "markdown",
   "metadata": {},
   "source": [
    "## Using list"
   ]
  },
  {
   "cell_type": "code",
   "execution_count": 2,
   "metadata": {},
   "outputs": [
    {
     "name": "stdout",
     "output_type": "stream",
     "text": [
      "Size 4\n",
      "B\n",
      "A\n",
      "D\n",
      "C\n",
      "Size 0\n"
     ]
    }
   ],
   "source": [
    "class PriorityQueue:\n",
    "    def __init__(self):\n",
    "        self.pqueue=[]\n",
    "\n",
    "    def is_empty(self):\n",
    "        return len(self.pqueue) == 0\n",
    "\n",
    "    def push(self,data,priority_value):\n",
    "        index=0\n",
    "        while index<len(self.pqueue) and self.pqueue[index][1]<=priority_value:\n",
    "            index+=1\n",
    "\n",
    "        self.pqueue.insert(index,(data,priority_value))\n",
    "\n",
    "    def pop(self):\n",
    "        if self.is_empty():\n",
    "            raise IndexError(\"Priority queue is empty.\")\n",
    "        else:\n",
    "            return self.pqueue.pop(0)[0]\n",
    "        \n",
    "    def size(self):\n",
    "        return len(self.pqueue)\n",
    "    \n",
    "p=PriorityQueue()\n",
    "p.push(\"A\",4)\n",
    "p.push(\"B\",2)\n",
    "p.push(\"C\",6)\n",
    "p.push(\"D\",5)\n",
    "\n",
    "print(\"Size\",p.size())\n",
    "while not p.is_empty():\n",
    "    print(p.pop())  \n",
    "\n",
    "print(\"Size\",p.size())\n"
   ]
  },
  {
   "cell_type": "markdown",
   "metadata": {},
   "source": [
    "## Using linkedlist "
   ]
  },
  {
   "cell_type": "code",
   "execution_count": 7,
   "metadata": {},
   "outputs": [
    {
     "name": "stdout",
     "output_type": "stream",
     "text": [
      "Size 4\n",
      "B\n",
      "A\n",
      "C\n",
      "D\n",
      "Size 0\n"
     ]
    }
   ],
   "source": [
    "class Node:\n",
    "    def __init__(self,data=None,next=None,priority=None) -> None:\n",
    "        self.data=data\n",
    "        self.next=next\n",
    "        self.priority=priority\n",
    "\n",
    "class PriorityQueue:\n",
    "    def __init__(self) -> None:\n",
    "        self.head=None\n",
    "        self.data_count=0\n",
    "\n",
    "    def is_empty(self):\n",
    "        return self.head == None\n",
    "\n",
    "    def push(self,data,priority):\n",
    "        new_node = Node(data=data, next=None, priority=priority)\n",
    "        if self.head is None:\n",
    "            self.head = new_node\n",
    "        elif priority<self.head.priority:\n",
    "            new_node.next=self.head\n",
    "            self.head=new_node\n",
    "        else:\n",
    "            temp=self.head\n",
    "            while temp.next and temp.priority <= priority:\n",
    "                temp=temp.next\n",
    "            \n",
    "            new_node.next=temp.next\n",
    "            temp.next=new_node\n",
    "\n",
    "        self.data_count += 1\n",
    "\n",
    "    def pop(self):\n",
    "        if self.is_empty():\n",
    "            raise IndexError(\"Priority queue is empty\")\n",
    "        else:\n",
    "            data = self.head.data\n",
    "            self.head = self.head.next\n",
    "            self.data_count -= 1\n",
    "            return data\n",
    "        \n",
    "    def size(self):\n",
    "        return self.data_count\n",
    "    \n",
    "\n",
    "p=PriorityQueue()\n",
    "p.push(\"A\",4)\n",
    "p.push(\"B\",2)\n",
    "p.push(\"C\",6)\n",
    "p.push(\"D\",5)\n",
    "\n",
    "print(\"Size\",p.size())\n",
    "while not p.is_empty():\n",
    "    print(p.pop())  \n",
    "\n",
    "print(\"Size\",p.size())"
   ]
  }
 ],
 "metadata": {
  "kernelspec": {
   "display_name": "test",
   "language": "python",
   "name": "python3"
  },
  "language_info": {
   "codemirror_mode": {
    "name": "ipython",
    "version": 3
   },
   "file_extension": ".py",
   "mimetype": "text/x-python",
   "name": "python",
   "nbconvert_exporter": "python",
   "pygments_lexer": "ipython3",
   "version": "3.12.3"
  }
 },
 "nbformat": 4,
 "nbformat_minor": 2
}
