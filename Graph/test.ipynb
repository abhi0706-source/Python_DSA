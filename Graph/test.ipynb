{
 "cells": [
  {
   "cell_type": "markdown",
   "metadata": {},
   "source": [
    "# Graph Data Structure"
   ]
  },
  {
   "cell_type": "markdown",
   "metadata": {},
   "source": [
    "## Apply Graph using Adjacency Matrix"
   ]
  },
  {
   "cell_type": "code",
   "execution_count": 12,
   "metadata": {},
   "outputs": [
    {
     "name": "stdout",
     "output_type": "stream",
     "text": [
      "0 1 0 0 1\n",
      "1 0 1 1 1\n",
      "0 1 0 1 0\n",
      "0 1 1 0 1\n",
      "1 1 0 1 0\n",
      "*************************\n",
      "0 1 0 0 1\n",
      "1 0 1 1 1\n",
      "0 1 0 1 0\n",
      "0 1 1 0 0\n",
      "1 1 0 0 0\n",
      "0\n",
      "1\n",
      "4\n",
      "2\n",
      "3\n",
      "[0, 1, 4, 2, 3]\n",
      "[0, 4, 1, 3, 2]\n"
     ]
    }
   ],
   "source": [
    "class Graph:\n",
    "    def __init__(self,vertex_count):\n",
    "        self.vertex_count=vertex_count\n",
    "        self.adj_matrix=[[0]*vertex_count for i in range(vertex_count)]\n",
    "\n",
    "    # undirected graph\n",
    "    def add_edge(self,u,v,weight=1):\n",
    "        if 0<=u<self.vertex_count and 0<=v<self.vertex_count and u!=v:\n",
    "            self.adj_matrix[u][v]=weight\n",
    "            self.adj_matrix[v][u]=weight\n",
    "        else:\n",
    "            print(\"Invalid Vertex\")\n",
    "\n",
    "    # undirected graph\n",
    "    def remove_edge(self,u,v):\n",
    "        if 0<=u<self.vertex_count and 0<=v<self.vertex_count and u!=v:\n",
    "            self.adj_matrix[u][v]=0\n",
    "            self.adj_matrix[v][u]=0\n",
    "        else:\n",
    "            print(\"Invalid Vertex\")\n",
    "    \n",
    "    # undirected graph\n",
    "    def has_edge(self,u,v):\n",
    "        if 0<=u<self.vertex_count and 0<=v<self.vertex_count and u!=v:\n",
    "            return self.adj_matrix[u][v]!=0\n",
    "        else:\n",
    "            print(\"Invalid Vertex\")\n",
    "\n",
    "    def print_adj_matrix(self):\n",
    "        for row_list in self.adj_matrix:\n",
    "            print(\" \".join(map(str,row_list)))\n",
    "\n",
    "    \n",
    "    def bfs(self):\n",
    "        bfs_ary=[False for i in range(self.vertex_count)]\n",
    "        bfs_queue=[]\n",
    "        bfs_queue.append(0)\n",
    "        bfs_ary[0]=True\n",
    "        ans=[]\n",
    "        while len(bfs_queue)!=0:\n",
    "            n=bfs_queue[0]\n",
    "            ans.append(bfs_queue.pop(0))\n",
    "            # print(n)\n",
    "            for i in range(self.vertex_count):\n",
    "                if self.adj_matrix[n][i]!=0 and bfs_ary[i]==False:\n",
    "                    bfs_queue.append(i)\n",
    "                    bfs_ary[i]=True\n",
    "    \n",
    "        return ans\n",
    "    \n",
    "    def dfs(self):\n",
    "        dfs_ary=[False for i in range(self.vertex_count)]\n",
    "        dfs_stack=[]\n",
    "        dfs_stack.append(0)\n",
    "        dfs_ary[0]=True\n",
    "        ans=[]\n",
    "        while len(dfs_stack)!=0:\n",
    "            n=dfs_stack[len(dfs_stack)-1]\n",
    "            ans.append(dfs_stack.pop())\n",
    "            # print(n)\n",
    "            for i in range(self.vertex_count):\n",
    "                if self.adj_matrix[n][i]!=0 and dfs_ary[i]==False:\n",
    "                    dfs_stack.append(i)\n",
    "                    dfs_ary[i]=True\n",
    "    \n",
    "        return ans\n",
    "\n",
    "g1=Graph(5)\n",
    "g1.add_edge(0,1)\n",
    "g1.add_edge(0,4)\n",
    "g1.add_edge(1,2)\n",
    "g1.add_edge(1,3)\n",
    "g1.add_edge(1,4)\n",
    "g1.add_edge(2,3)\n",
    "g1.add_edge(3,4)\n",
    "g1.print_adj_matrix()\n",
    "g1.remove_edge(3,4)\n",
    "print(\"*************************\")\n",
    "g1.print_adj_matrix()\n",
    "print(g1.bfs())\n",
    "print(g1.dfs())"
   ]
  },
  {
   "cell_type": "markdown",
   "metadata": {},
   "source": [
    "## Apply Garaph using Adjacency List "
   ]
  },
  {
   "cell_type": "code",
   "execution_count": 3,
   "metadata": {},
   "outputs": [
    {
     "name": "stdout",
     "output_type": "stream",
     "text": [
      "0 : [(1, 1), (4, 1)]\n",
      "1 : [(0, 1), (2, 1), (3, 1), (4, 1)]\n",
      "2 : [(1, 1), (3, 1)]\n",
      "3 : [(1, 1), (2, 1), (4, 1)]\n",
      "4 : [(0, 1), (1, 1), (3, 1)]\n",
      "*****************\n",
      "0 : [(1, 1), (4, 1)]\n",
      "1 : [(0, 1), (2, 1), (3, 1)]\n",
      "2 : [(1, 1), (3, 1)]\n",
      "3 : [(1, 1), (2, 1), (4, 1)]\n",
      "4 : [(0, 1), (3, 1)]\n"
     ]
    }
   ],
   "source": [
    "class Graph:\n",
    "    def __init__(self,vertex_count):\n",
    "        self.vertex_count=vertex_count\n",
    "        self.adj_list={i:[] for i in range(vertex_count)}\n",
    "\n",
    "    # undirected graph\n",
    "    def add_edge(self,u,v,weight=1):\n",
    "        if 0<=u<self.vertex_count and 0<=v<self.vertex_count and u!=v:\n",
    "            self.adj_list[u].append((v,weight))\n",
    "            self.adj_list[v].append((u,weight))\n",
    "        else:\n",
    "            print(\"Invalid Vertex\")\n",
    "\n",
    "    # undirected graph\n",
    "    def remove_edge(self,u,v):\n",
    "        if 0<=u<self.vertex_count and 0<=v<self.vertex_count and u!=v:\n",
    "            for i in self.adj_list[u]:\n",
    "                if i[0]==v:\n",
    "                    self.adj_list[u].remove(i)\n",
    "                    break\n",
    "\n",
    "            for i in self.adj_list[v]:\n",
    "                if i[0]==u:\n",
    "                    self.adj_list[v].remove(i)\n",
    "                    break\n",
    "        else:\n",
    "            print(\"Invalid Vertex\")\n",
    "\n",
    "    # undirected graph\n",
    "    def has_edge(self,u,v,weight=1):\n",
    "        if 0<=u<self.vertex_count and 0<=v<self.vertex_count and u!=v:\n",
    "            return any(vertex==v for vertex,x in self.adj_list[u])\n",
    "        else:\n",
    "            print(\"Invalid Vertex\")\n",
    "            return False\n",
    "\n",
    "    def print_adj_list(self):\n",
    "        for vertex,n in self.adj_list.items():\n",
    "            print(vertex,\":\",n)\n",
    "\n",
    "\n",
    "g2=Graph(vertex_count=5)\n",
    "g2.add_edge(0,1)\n",
    "g2.add_edge(0,4)\n",
    "g2.add_edge(1,2)\n",
    "g2.add_edge(1,3)\n",
    "g2.add_edge(1,4)\n",
    "g2.add_edge(2,3)\n",
    "g2.add_edge(3,4)\n",
    "g2.print_adj_list()\n",
    "g2.remove_edge(1,4)\n",
    "print(\"*****************\")\n",
    "g2.print_adj_list()"
   ]
  },
  {
   "cell_type": "code",
   "execution_count": 4,
   "metadata": {},
   "outputs": [
    {
     "data": {
      "text/plain": [
       "'[1, 2, 3]'"
      ]
     },
     "execution_count": 4,
     "metadata": {},
     "output_type": "execute_result"
    }
   ],
   "source": []
  },
  {
   "cell_type": "code",
   "execution_count": null,
   "metadata": {},
   "outputs": [],
   "source": []
  }
 ],
 "metadata": {
  "kernelspec": {
   "display_name": "test",
   "language": "python",
   "name": "python3"
  },
  "language_info": {
   "codemirror_mode": {
    "name": "ipython",
    "version": 3
   },
   "file_extension": ".py",
   "mimetype": "text/x-python",
   "name": "python",
   "nbconvert_exporter": "python",
   "pygments_lexer": "ipython3",
   "version": "3.12.3"
  }
 },
 "nbformat": 4,
 "nbformat_minor": 2
}
