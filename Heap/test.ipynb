{
 "cells": [
  {
   "cell_type": "markdown",
   "metadata": {},
   "source": [
    "# Heap data structure"
   ]
  },
  {
   "cell_type": "code",
   "execution_count": 51,
   "metadata": {},
   "outputs": [
    {
     "data": {
      "text/plain": [
       "[99, 78, 66, 55, 45, 34, 22, 12]"
      ]
     },
     "execution_count": 51,
     "metadata": {},
     "output_type": "execute_result"
    }
   ],
   "source": [
    "class Heap:\n",
    "    def __init__(self):\n",
    "        self.heap=[]\n",
    "\n",
    "    def create_heap(self,lst):\n",
    "        for i in lst:\n",
    "            self.heap_insert(i)\n",
    "\n",
    "        return self.heap\n",
    "\n",
    "    def heap_insert(self,data):\n",
    "        new_val_index=len(self.heap)\n",
    "        parent_index=(len(self.heap)-1)//2\n",
    "        while new_val_index>0 and  self.heap[parent_index]<data:\n",
    "            if new_val_index==len(self.heap):\n",
    "                self.heap.append(self.heap[parent_index])\n",
    "            else:\n",
    "                self.heap[new_val_index]=self.heap[parent_index]\n",
    "            new_val_index=parent_index\n",
    "            parent_index=(new_val_index-1)//2\n",
    "\n",
    "        if new_val_index==len(self.heap):\n",
    "            self.heap.append(data)\n",
    "        else:\n",
    "            self.heap[new_val_index]=data\n",
    "\n",
    "\n",
    "    def top(self):\n",
    "        if len(self.heap)==0:\n",
    "            raise EmptyHeapException()\n",
    "        return self.heap[0]\n",
    "    \n",
    "    def heap_delete_element(self):\n",
    "        if len(self.heap)==0:\n",
    "            raise EmptyHeapException()\n",
    "        \n",
    "        if len(self.heap)==1:\n",
    "            return self.heap.pop()\n",
    "    \n",
    "        max_value=self.heap[0]\n",
    "        temp=self.heap.pop()\n",
    "        index_val=0\n",
    "        leftchildindex=2*index_val+1    \n",
    "        rightchildindex=2*index_val+2\n",
    "        \n",
    "        while leftchildindex<len(self.heap):\n",
    "            if rightchildindex<len(self.heap):\n",
    "                if self.heap[leftchildindex]>self.heap[rightchildindex]:\n",
    "                    if self.heap[leftchildindex]>temp:\n",
    "                        self.heap[index_val]=self.heap[leftchildindex]\n",
    "                        index_val=leftchildindex\n",
    "                    else:\n",
    "                        break\n",
    "                else:\n",
    "                    if self.heap[rightchildindex]>temp:\n",
    "                        self.heap[index_val]=self.heap[rightchildindex]\n",
    "                        index_val=rightchildindex\n",
    "                    else:\n",
    "                        break\n",
    "            else: # No right child\n",
    "                if self.heap[leftchildindex]>temp:\n",
    "                    self.heap[index_val]=self.heap[leftchildindex]\n",
    "                    index_val=leftchildindex\n",
    "                else:\n",
    "                    break\n",
    "            leftchildindex=2*index_val+1\n",
    "            rightchildindex=2*index_val+2\n",
    "\n",
    "        self.heap[index_val]=temp\n",
    "        return max_value\n",
    "\n",
    "    def heapsort(self,lst):\n",
    "        self.create_heap(lst=lst)\n",
    "        lst=[]\n",
    "        try:\n",
    "            while len(self.heap)>0:\n",
    "                lst.append(self.heap_delete_element())\n",
    "            return lst\n",
    "        except EmptyHeapException:\n",
    "            pass\n",
    "\n",
    "class EmptyHeapException(Exception):\n",
    "    def __init__(self,msg=\"Empty Heap\"):\n",
    "        self.msg=msg\n",
    "\n",
    "    def __str__(self):\n",
    "        return self.msg\n",
    "    \n",
    "lst1=[34,78,45,12,66,55,99,22]\n",
    "h=Heap()\n",
    "h.heapsort(lst1)\n",
    "# h.create_heap(lst=lst1)\n"
   ]
  },
  {
   "cell_type": "code",
   "execution_count": null,
   "metadata": {},
   "outputs": [],
   "source": []
  },
  {
   "cell_type": "code",
   "execution_count": null,
   "metadata": {},
   "outputs": [],
   "source": []
  }
 ],
 "metadata": {
  "kernelspec": {
   "display_name": "test",
   "language": "python",
   "name": "python3"
  },
  "language_info": {
   "codemirror_mode": {
    "name": "ipython",
    "version": 3
   },
   "file_extension": ".py",
   "mimetype": "text/x-python",
   "name": "python",
   "nbconvert_exporter": "python",
   "pygments_lexer": "ipython3",
   "version": "3.12.3"
  }
 },
 "nbformat": 4,
 "nbformat_minor": 2
}
