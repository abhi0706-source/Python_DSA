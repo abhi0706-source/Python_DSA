{
 "cells": [
  {
   "cell_type": "markdown",
   "metadata": {},
   "source": [
    "## Bubble sort"
   ]
  },
  {
   "cell_type": "code",
   "execution_count": 48,
   "metadata": {},
   "outputs": [
    {
     "name": "stdout",
     "output_type": "stream",
     "text": [
      "[11, 22, 33, 44, 66, 88]\n"
     ]
    }
   ],
   "source": [
    "def bubble_Sort(data_list):\n",
    "    for k in range(1,len(data_list)):\n",
    "        for i in range(len(data_list) - k):\n",
    "            if data_list[i]>data_list[i+1]:\n",
    "                data_list[i],data_list[i+1]=data_list[i+1],data_list[i]\n",
    "\n",
    "lst=[33,44,88,22,66,11]\n",
    "\n",
    "bubble_Sort(lst)\n",
    "\n",
    "print(lst)"
   ]
  },
  {
   "cell_type": "markdown",
   "metadata": {},
   "source": [
    "## Modified Bubble sort"
   ]
  },
  {
   "cell_type": "code",
   "execution_count": 50,
   "metadata": {},
   "outputs": [
    {
     "name": "stdout",
     "output_type": "stream",
     "text": [
      "[11, 22, 33, 44, 66, 88]\n"
     ]
    }
   ],
   "source": [
    "def modified_bubble_Sort(data_list):\n",
    "    for k in range(1,len(data_list)):\n",
    "        flag=False\n",
    "        for i in range(len(data_list) - k):\n",
    "            if data_list[i]>data_list[i+1]:\n",
    "                data_list[i],data_list[i+1]=data_list[i+1],data_list[i]\n",
    "                flag=True\n",
    "        \n",
    "        if not flag:\n",
    "            break\n",
    "\n",
    "lst=[33,44,88,22,66,11]\n",
    "\n",
    "modified_bubble_Sort(lst)\n",
    "\n",
    "print(lst)"
   ]
  },
  {
   "cell_type": "markdown",
   "metadata": {},
   "source": [
    "## Selection sort"
   ]
  },
  {
   "cell_type": "code",
   "execution_count": 53,
   "metadata": {},
   "outputs": [
    {
     "name": "stdout",
     "output_type": "stream",
     "text": [
      "[11, 33, 44, 22, 66, 88]\n"
     ]
    }
   ],
   "source": [
    "def selection_sort(data_list):\n",
    "    for i in range(len(data_list)-1):\n",
    "        min_index=i\n",
    "        for j in range(i+1,len(data_list)):\n",
    "            if data_list[j]<data_list[i]:\n",
    "                min_index=j\n",
    "        data_list[i],data_list[min_index]=data_list[min_index],data_list[i]\n",
    "\n",
    "lst=[33,44,88,22,66,11]\n",
    "\n",
    "selection_sort(lst)\n",
    "\n",
    "print(lst)"
   ]
  },
  {
   "cell_type": "markdown",
   "metadata": {},
   "source": [
    "## Insertion sort"
   ]
  },
  {
   "cell_type": "code",
   "execution_count": 54,
   "metadata": {},
   "outputs": [
    {
     "name": "stdout",
     "output_type": "stream",
     "text": [
      "[11, 22, 33, 44, 66, 88]\n"
     ]
    }
   ],
   "source": [
    "def insertion_sort(data_list):\n",
    "    for i in range(len(data_list)):\n",
    "        temp=data_list[i]\n",
    "        j=i-1\n",
    "        while j>=0 and data_list[j]>temp: \n",
    "            data_list[j+1]=data_list[j]\n",
    "            j-=1\n",
    "        data_list[j+1]=temp\n",
    "    return data_list\n",
    "        \n",
    "lst=[33,44,88,22,66,11]\n",
    "\n",
    "insertion_sort(lst)\n",
    "\n",
    "print(lst)"
   ]
  },
  {
   "cell_type": "markdown",
   "metadata": {},
   "source": [
    "## Quick sort"
   ]
  },
  {
   "cell_type": "code",
   "execution_count": 61,
   "metadata": {},
   "outputs": [
    {
     "name": "stdout",
     "output_type": "stream",
     "text": [
      "[11, 22, 33, 44, 66, 88]\n"
     ]
    }
   ],
   "source": [
    "def quick_sort(data_list):\n",
    "    if len(data_list)<=1:\n",
    "        return data_list\n",
    "    else:\n",
    "        pivot=data_list[0]\n",
    "        lesser=[i for i in data_list[1:] if i<=pivot]\n",
    "        greater=[i for i in data_list[1:] if i>pivot]\n",
    "\n",
    "        return quick_sort(lesser)+[pivot]+quick_sort(greater)\n",
    "        \n",
    "lst=[33,44,88,22,66,11]\n",
    "\n",
    "lst=quick_sort(lst)\n",
    "\n",
    "print(lst)"
   ]
  },
  {
   "cell_type": "markdown",
   "metadata": {},
   "source": [
    "## Marge sort"
   ]
  },
  {
   "cell_type": "code",
   "execution_count": 75,
   "metadata": {},
   "outputs": [
    {
     "name": "stdout",
     "output_type": "stream",
     "text": [
      "[11, 22, 33, 44, 66, 88]\n"
     ]
    }
   ],
   "source": [
    "def marge_sort(data_list):\n",
    "    if len(data_list)<=1:\n",
    "        return data_list\n",
    "    else:\n",
    "        mid=len(data_list)//2\n",
    "        left=data_list[:mid]\n",
    "        right=data_list[mid:]\n",
    "       \n",
    "        marge_sort(left)\n",
    "        marge_sort(right)\n",
    "        \n",
    "        i=0\n",
    "        j=0\n",
    "        k=0\n",
    "        while i<len(left) and j<len(right):\n",
    "            if left[i]<=right[j]:\n",
    "                data_list[k]=left[i]\n",
    "                i+=1\n",
    "            else:\n",
    "                data_list[k]=right[j]\n",
    "                j+=1\n",
    "            k+=1\n",
    "        \n",
    "        while i<len(left):\n",
    "            data_list[k]=left[i]\n",
    "            i+=1\n",
    "            k+=1\n",
    "\n",
    "        while j<len(right):\n",
    "            data_list[k]=right[j]\n",
    "            j+=1\n",
    "            k+=1\n",
    "\n",
    "        return data_list\n",
    "\n",
    "lst=[33,44,88,22,66,11]\n",
    "\n",
    "lst=marge_sort(lst)\n",
    "\n",
    "print(lst)"
   ]
  }
 ],
 "metadata": {
  "kernelspec": {
   "display_name": "test",
   "language": "python",
   "name": "python3"
  },
  "language_info": {
   "codemirror_mode": {
    "name": "ipython",
    "version": 3
   },
   "file_extension": ".py",
   "mimetype": "text/x-python",
   "name": "python",
   "nbconvert_exporter": "python",
   "pygments_lexer": "ipython3",
   "version": "3.12.3"
  }
 },
 "nbformat": 4,
 "nbformat_minor": 2
}
