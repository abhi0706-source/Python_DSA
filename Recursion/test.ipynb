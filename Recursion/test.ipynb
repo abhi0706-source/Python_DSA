{
 "cells": [
  {
   "cell_type": "code",
   "execution_count": 12,
   "metadata": {},
   "outputs": [
    {
     "name": "stdout",
     "output_type": "stream",
     "text": [
      "1\n",
      "2\n",
      "3\n",
      "4\n",
      "5\n",
      "6\n",
      "7\n",
      "8\n",
      "9\n",
      "10\n"
     ]
    }
   ],
   "source": [
    "# Write a recursion fucntion to print first N numbers.\n",
    "\n",
    "def print_first_n(n):\n",
    "    if n==1:\n",
    "        print(1)\n",
    "        return 1\n",
    "    else:\n",
    "        print_first_n(n-1)\n",
    "        print(n)\n",
    "\n",
    "print_first_n(10)"
   ]
  },
  {
   "cell_type": "code",
   "execution_count": 13,
   "metadata": {},
   "outputs": [
    {
     "name": "stdout",
     "output_type": "stream",
     "text": [
      "10\n",
      "9\n",
      "8\n",
      "7\n",
      "6\n",
      "5\n",
      "4\n",
      "3\n",
      "2\n",
      "1\n"
     ]
    }
   ],
   "source": [
    "# Write a recursion fucntion to print reverse first N numbers.\n",
    "\n",
    "def rev_print_first_n(n):\n",
    "    if n==1:\n",
    "        print(1)\n",
    "        return 1\n",
    "    else:\n",
    "        print(n)\n",
    "        rev_print_first_n(n-1)\n",
    "\n",
    "rev_print_first_n(10)"
   ]
  },
  {
   "cell_type": "code",
   "execution_count": 25,
   "metadata": {},
   "outputs": [
    {
     "name": "stdout",
     "output_type": "stream",
     "text": [
      "1\n",
      "3\n",
      "5\n",
      "7\n",
      "9\n",
      "11\n",
      "13\n",
      "15\n",
      "17\n",
      "19\n"
     ]
    }
   ],
   "source": [
    "# Write a recursion fucntion to print first odd N numbers.\n",
    "\n",
    "def odd_print_first_n(n):\n",
    "    if n==1:\n",
    "        print(1)\n",
    "        return 1\n",
    "    else:\n",
    "        odd_print_first_n(n-1)\n",
    "        print(2*n-1)\n",
    "\n",
    "odd_print_first_n(10)"
   ]
  },
  {
   "cell_type": "code",
   "execution_count": 28,
   "metadata": {},
   "outputs": [
    {
     "name": "stdout",
     "output_type": "stream",
     "text": [
      "2\n",
      "4\n",
      "6\n",
      "8\n",
      "10\n",
      "12\n",
      "14\n",
      "16\n",
      "18\n",
      "20\n"
     ]
    }
   ],
   "source": [
    "# Write a recursion fucntion to print first even N numbers.\n",
    "\n",
    "def even_print_first_n(n):\n",
    "    if n==1:\n",
    "        print(2*n)\n",
    "        return 1\n",
    "    else:\n",
    "        even_print_first_n(n-1)\n",
    "        print(2*n)\n",
    "\n",
    "even_print_first_n(10)"
   ]
  },
  {
   "cell_type": "code",
   "execution_count": 30,
   "metadata": {},
   "outputs": [
    {
     "name": "stdout",
     "output_type": "stream",
     "text": [
      "20\n",
      "18\n",
      "16\n",
      "14\n",
      "12\n",
      "10\n",
      "8\n",
      "6\n",
      "4\n",
      "2\n"
     ]
    }
   ],
   "source": [
    "# Write a recursion fucntion to print first even N numbers in reverse.\n",
    "\n",
    "def rev_even_print_first_n(n):\n",
    "    if n>0:\n",
    "        print(2*n)\n",
    "        rev_even_print_first_n(n-1)\n",
    "\n",
    "rev_even_print_first_n(10)"
   ]
  },
  {
   "cell_type": "code",
   "execution_count": 31,
   "metadata": {},
   "outputs": [
    {
     "name": "stdout",
     "output_type": "stream",
     "text": [
      "15\n"
     ]
    }
   ],
   "source": [
    "# Write a recurseve fucntion to find the sum of first N numbers.\n",
    "\n",
    "def sumN(n):\n",
    "    if n==1:\n",
    "        return 1\n",
    "    else:\n",
    "        return n + sumN(n-1)\n",
    "    \n",
    "print(sumN(5))"
   ]
  },
  {
   "cell_type": "code",
   "execution_count": 39,
   "metadata": {},
   "outputs": [
    {
     "name": "stdout",
     "output_type": "stream",
     "text": [
      "100\n"
     ]
    }
   ],
   "source": [
    "# Write a recurseve fucntion to find the sum of first odd N numbers.\n",
    "\n",
    "def sumNOdd(n):\n",
    "    if n==1:\n",
    "        return 1\n",
    "    else:\n",
    "        return 2*n-1 + sumNOdd(n-1)\n",
    "    \n",
    "print(sumNOdd(10))"
   ]
  },
  {
   "cell_type": "code",
   "execution_count": 40,
   "metadata": {},
   "outputs": [
    {
     "name": "stdout",
     "output_type": "stream",
     "text": [
      "110\n"
     ]
    }
   ],
   "source": [
    "# Write a recurseve fucntion to find the sum of first even N numbers.\n",
    "\n",
    "def sumNeven(n):\n",
    "    if n==1:\n",
    "        return 2\n",
    "    else:\n",
    "        return 2*n + sumNeven(n-1)\n",
    "    \n",
    "print(sumNeven(10))"
   ]
  },
  {
   "cell_type": "code",
   "execution_count": 43,
   "metadata": {},
   "outputs": [
    {
     "name": "stdout",
     "output_type": "stream",
     "text": [
      "120\n"
     ]
    }
   ],
   "source": [
    "# Write a recurseve fucntion to find the factorial of first N numbers.\n",
    "\n",
    "def fact(n):\n",
    "    if n==1:\n",
    "        return 1\n",
    "    else:\n",
    "        return n * fact(n-1)\n",
    "    \n",
    "print(fact(5))"
   ]
  },
  {
   "cell_type": "code",
   "execution_count": 45,
   "metadata": {},
   "outputs": [
    {
     "name": "stdout",
     "output_type": "stream",
     "text": [
      "55\n"
     ]
    }
   ],
   "source": [
    "def sumNsquare(n):\n",
    "    if n==1:\n",
    "        return 1\n",
    "    else:\n",
    "        return n*n + sumNsquare(n-1)\n",
    "    \n",
    "print(sumNsquare(5))"
   ]
  },
  {
   "cell_type": "code",
   "execution_count": null,
   "metadata": {},
   "outputs": [],
   "source": []
  }
 ],
 "metadata": {
  "kernelspec": {
   "display_name": "test",
   "language": "python",
   "name": "python3"
  },
  "language_info": {
   "codemirror_mode": {
    "name": "ipython",
    "version": 3
   },
   "file_extension": ".py",
   "mimetype": "text/x-python",
   "name": "python",
   "nbconvert_exporter": "python",
   "pygments_lexer": "ipython3",
   "version": "3.12.3"
  }
 },
 "nbformat": 4,
 "nbformat_minor": 2
}
