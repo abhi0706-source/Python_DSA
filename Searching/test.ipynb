{
 "cells": [
  {
   "cell_type": "markdown",
   "metadata": {},
   "source": [
    "## Linear Search"
   ]
  },
  {
   "cell_type": "code",
   "execution_count": 7,
   "metadata": {},
   "outputs": [
    {
     "name": "stdout",
     "output_type": "stream",
     "text": [
      "2\n",
      "Not Found\n"
     ]
    }
   ],
   "source": [
    "lst1=[34,78,45,12,66,55,99,22]\n",
    "item1=45\n",
    "item2=25\n",
    "\n",
    "def linear_search(lst1,item):\n",
    "    for i in range(len(lst1)):\n",
    "        if lst1[i]==item:\n",
    "            return i\n",
    "    else:\n",
    "        return \"Not Found\"\n",
    "\n",
    "print(linear_search(lst1=lst1,item=item1))\n",
    "print(linear_search(lst1=lst1,item=item2))"
   ]
  },
  {
   "cell_type": "markdown",
   "metadata": {},
   "source": [
    "## Binary Search algorithm"
   ]
  },
  {
   "cell_type": "code",
   "execution_count": 16,
   "metadata": {},
   "outputs": [
    {
     "name": "stdout",
     "output_type": "stream",
     "text": [
      "[12, 22, 34, 45, 55, 66, 78, 99]\n",
      "3\n",
      "Not Found\n"
     ]
    }
   ],
   "source": [
    "lst1=[34,78,45,12,66,55,99,22]\n",
    "lst1.sort()\n",
    "item1=45\n",
    "item2=25\n",
    "\n",
    "def binary_search(list_val,item):\n",
    "    left=0\n",
    "    right=len(list_val)\n",
    "    while left<=right:\n",
    "        mid=(left+right)//2\n",
    "        if list_val[mid]==item:\n",
    "            return mid\n",
    "        elif list_val[mid]<item:\n",
    "            left=mid+1\n",
    "        else:\n",
    "            right=mid-1\n",
    "    else:\n",
    "        return \"Not Found\"\n",
    "\n",
    "print(binary_search(list_val=lst1,item=item1))\n",
    "print(binary_search(list_val=lst1,item=item2))"
   ]
  },
  {
   "cell_type": "code",
   "execution_count": null,
   "metadata": {},
   "outputs": [],
   "source": []
  }
 ],
 "metadata": {
  "kernelspec": {
   "display_name": "test",
   "language": "python",
   "name": "python3"
  },
  "language_info": {
   "codemirror_mode": {
    "name": "ipython",
    "version": 3
   },
   "file_extension": ".py",
   "mimetype": "text/x-python",
   "name": "python",
   "nbconvert_exporter": "python",
   "pygments_lexer": "ipython3",
   "version": "3.12.3"
  }
 },
 "nbformat": 4,
 "nbformat_minor": 2
}
